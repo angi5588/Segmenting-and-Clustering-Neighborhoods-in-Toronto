{
    "cells": [
        {
            "cell_type": "markdown",
            "metadata": {},
            "source": "# Peer-graded Assignment: Segmenting and Clustering Neighborhoods in Toronto\n\n\n# PART 1:\n\nFor this assignment, you will be required to explore and cluster the neighborhoods in Toronto.\n\n1) Start by creating a new Notebook for this assignment.\n\n2) Use the Notebook to build the code to scrape the following Wikipedia page, https://en.wikipedia.org/wiki/List_of_postal_codes_of_Canada:_M, in order to obtain the data that is in the table of postal codes and to transform the data into a pandas dataframe like the one shown below:\n"
        },
        {
            "cell_type": "code",
            "execution_count": 119,
            "metadata": {},
            "outputs": [],
            "source": "import requests\nimport lxml.html as lh\nimport pandas as pd"
        },
        {
            "cell_type": "code",
            "execution_count": 120,
            "metadata": {},
            "outputs": [
                {
                    "data": {
                        "text/plain": "[3, 3, 3, 3, 3, 3, 3, 3, 3, 3, 3, 3]"
                    },
                    "execution_count": 120,
                    "metadata": {},
                    "output_type": "execute_result"
                }
            ],
            "source": "wikipedia_link='https://en.wikipedia.org/wiki/List_of_postal_codes_of_Canada:_M'\n\n#Create a handle, wikipedia_page, to handle the contents of the website\nwikipedia_page=requests.get(wikipedia_link)\n\n#Store the contents of the website under wikipedia_page\nwikipedia_page = lh.fromstring(wikipedia_page.content)\n\n#Parse data that are stored between <tr>..</tr> of HTML\ntr_elements = wikipedia_page.xpath('//tr')\n\n#Check the length of the first 12 rows\n[len(T) for T in tr_elements[:12]]"
        },
        {
            "cell_type": "code",
            "execution_count": 121,
            "metadata": {},
            "outputs": [
                {
                    "name": "stdout",
                    "output_type": "stream",
                    "text": "Postcode\nBorough\nNeighbourhood\n\n"
                }
            ],
            "source": "tr_elements = wikipedia_page.xpath('//tr')\n\n#Create empty list\ncol=[]\n\ni=0\n#For each row, store each first element (header) and an empty list\nfor t in tr_elements[0]:\n    i+=1\n    name=t.text_content()\n    print(name)\n    col.append((name,[]))"
        },
        {
            "cell_type": "code",
            "execution_count": 122,
            "metadata": {},
            "outputs": [
                {
                    "data": {
                        "text/plain": "[('Postcode', []), ('Borough', []), ('Neighbourhood\\n', [])]"
                    },
                    "execution_count": 122,
                    "metadata": {},
                    "output_type": "execute_result"
                }
            ],
            "source": "col"
        },
        {
            "cell_type": "code",
            "execution_count": 123,
            "metadata": {},
            "outputs": [],
            "source": "#Since out first row is the header, data is stored on the second row onwards\nfor j in range(1,len(tr_elements)):\n    #T is our j'th row\n    T=tr_elements[j]\n    \n    #If row is not of size 3, the //tr data is not from our table \n    if len(T)!=3:\n        break\n    \n    #i is the index of our column\n    i=0\n    \n    #Iterate through each element of the row\n    for t in T.iterchildren():\n        data=t.text_content() \n        #Check if row is empty\n        if i>0:\n        #Convert any numerical value to integers\n            try:\n                data=int(data)\n            except:\n                pass\n        #Append the data to the empty list of the i'th column\n        col[i][1].append(data)\n        #Increment i for the next column\n        i+=1"
        },
        {
            "cell_type": "code",
            "execution_count": 124,
            "metadata": {},
            "outputs": [
                {
                    "data": {
                        "text/plain": "[289, 289, 289]"
                    },
                    "execution_count": 124,
                    "metadata": {},
                    "output_type": "execute_result"
                }
            ],
            "source": "[len(C) for (title,C) in col]"
        },
        {
            "cell_type": "code",
            "execution_count": 125,
            "metadata": {},
            "outputs": [],
            "source": "# Transforming the dictionary on a dataframe\nDict={title:column for (title,column) in col}\ndf=pd.DataFrame(Dict)"
        },
        {
            "cell_type": "code",
            "execution_count": 126,
            "metadata": {},
            "outputs": [
                {
                    "data": {
                        "text/html": "<div>\n<style scoped>\n    .dataframe tbody tr th:only-of-type {\n        vertical-align: middle;\n    }\n\n    .dataframe tbody tr th {\n        vertical-align: top;\n    }\n\n    .dataframe thead th {\n        text-align: right;\n    }\n</style>\n<table border=\"1\" class=\"dataframe\">\n  <thead>\n    <tr style=\"text-align: right;\">\n      <th></th>\n      <th>Postcode</th>\n      <th>Borough</th>\n      <th>Neighbourhood</th>\n    </tr>\n  </thead>\n  <tbody>\n    <tr>\n      <th>0</th>\n      <td>M1A</td>\n      <td>Not assigned</td>\n      <td>Not assigned</td>\n    </tr>\n    <tr>\n      <th>1</th>\n      <td>M2A</td>\n      <td>Not assigned</td>\n      <td>Not assigned</td>\n    </tr>\n    <tr>\n      <th>2</th>\n      <td>M3A</td>\n      <td>North York</td>\n      <td>Parkwoods</td>\n    </tr>\n    <tr>\n      <th>3</th>\n      <td>M4A</td>\n      <td>North York</td>\n      <td>Victoria Village</td>\n    </tr>\n    <tr>\n      <th>4</th>\n      <td>M5A</td>\n      <td>Downtown Toronto</td>\n      <td>Harbourfront</td>\n    </tr>\n  </tbody>\n</table>\n</div>",
                        "text/plain": "  Postcode           Borough     Neighbourhood\n0      M1A      Not assigned      Not assigned\n1      M2A      Not assigned      Not assigned\n2      M3A        North York         Parkwoods\n3      M4A        North York  Victoria Village\n4      M5A  Downtown Toronto      Harbourfront"
                    },
                    "execution_count": 126,
                    "metadata": {},
                    "output_type": "execute_result"
                }
            ],
            "source": "# Cleaning break lines\ndf = df.replace(r'\\n','', regex=True)\ndf.columns = ['Postcode', 'Borough', 'Neighbourhood']\ndf.head()"
        },
        {
            "cell_type": "code",
            "execution_count": 127,
            "metadata": {},
            "outputs": [
                {
                    "data": {
                        "text/html": "<div>\n<style scoped>\n    .dataframe tbody tr th:only-of-type {\n        vertical-align: middle;\n    }\n\n    .dataframe tbody tr th {\n        vertical-align: top;\n    }\n\n    .dataframe thead th {\n        text-align: right;\n    }\n</style>\n<table border=\"1\" class=\"dataframe\">\n  <thead>\n    <tr style=\"text-align: right;\">\n      <th></th>\n      <th>Postcode</th>\n      <th>Borough</th>\n      <th>Neighbourhood</th>\n    </tr>\n  </thead>\n  <tbody>\n    <tr>\n      <th>0</th>\n      <td>M3A</td>\n      <td>North York</td>\n      <td>Parkwoods</td>\n    </tr>\n    <tr>\n      <th>1</th>\n      <td>M4A</td>\n      <td>North York</td>\n      <td>Victoria Village</td>\n    </tr>\n    <tr>\n      <th>2</th>\n      <td>M5A</td>\n      <td>Downtown Toronto</td>\n      <td>Harbourfront</td>\n    </tr>\n    <tr>\n      <th>3</th>\n      <td>M5A</td>\n      <td>Downtown Toronto</td>\n      <td>Regent Park</td>\n    </tr>\n    <tr>\n      <th>4</th>\n      <td>M6A</td>\n      <td>North York</td>\n      <td>Lawrence Heights</td>\n    </tr>\n    <tr>\n      <th>5</th>\n      <td>M6A</td>\n      <td>North York</td>\n      <td>Lawrence Manor</td>\n    </tr>\n    <tr>\n      <th>6</th>\n      <td>M7A</td>\n      <td>Queen's Park</td>\n      <td>Not assigned</td>\n    </tr>\n    <tr>\n      <th>7</th>\n      <td>M9A</td>\n      <td>Etobicoke</td>\n      <td>Islington Avenue</td>\n    </tr>\n    <tr>\n      <th>8</th>\n      <td>M1B</td>\n      <td>Scarborough</td>\n      <td>Rouge</td>\n    </tr>\n    <tr>\n      <th>9</th>\n      <td>M1B</td>\n      <td>Scarborough</td>\n      <td>Malvern</td>\n    </tr>\n    <tr>\n      <th>10</th>\n      <td>M3B</td>\n      <td>North York</td>\n      <td>Don Mills North</td>\n    </tr>\n    <tr>\n      <th>11</th>\n      <td>M4B</td>\n      <td>East York</td>\n      <td>Woodbine Gardens</td>\n    </tr>\n    <tr>\n      <th>12</th>\n      <td>M4B</td>\n      <td>East York</td>\n      <td>Parkview Hill</td>\n    </tr>\n    <tr>\n      <th>13</th>\n      <td>M5B</td>\n      <td>Downtown Toronto</td>\n      <td>Ryerson</td>\n    </tr>\n    <tr>\n      <th>14</th>\n      <td>M5B</td>\n      <td>Downtown Toronto</td>\n      <td>Garden District</td>\n    </tr>\n    <tr>\n      <th>15</th>\n      <td>M6B</td>\n      <td>North York</td>\n      <td>Glencairn</td>\n    </tr>\n    <tr>\n      <th>16</th>\n      <td>M9B</td>\n      <td>Etobicoke</td>\n      <td>Cloverdale</td>\n    </tr>\n    <tr>\n      <th>17</th>\n      <td>M9B</td>\n      <td>Etobicoke</td>\n      <td>Islington</td>\n    </tr>\n    <tr>\n      <th>18</th>\n      <td>M9B</td>\n      <td>Etobicoke</td>\n      <td>Martin Grove</td>\n    </tr>\n    <tr>\n      <th>19</th>\n      <td>M9B</td>\n      <td>Etobicoke</td>\n      <td>Princess Gardens</td>\n    </tr>\n    <tr>\n      <th>20</th>\n      <td>M9B</td>\n      <td>Etobicoke</td>\n      <td>West Deane Park</td>\n    </tr>\n    <tr>\n      <th>21</th>\n      <td>M1C</td>\n      <td>Scarborough</td>\n      <td>Highland Creek</td>\n    </tr>\n    <tr>\n      <th>22</th>\n      <td>M1C</td>\n      <td>Scarborough</td>\n      <td>Rouge Hill</td>\n    </tr>\n    <tr>\n      <th>23</th>\n      <td>M1C</td>\n      <td>Scarborough</td>\n      <td>Port Union</td>\n    </tr>\n    <tr>\n      <th>24</th>\n      <td>M3C</td>\n      <td>North York</td>\n      <td>Flemingdon Park</td>\n    </tr>\n    <tr>\n      <th>25</th>\n      <td>M3C</td>\n      <td>North York</td>\n      <td>Don Mills South</td>\n    </tr>\n    <tr>\n      <th>26</th>\n      <td>M4C</td>\n      <td>East York</td>\n      <td>Woodbine Heights</td>\n    </tr>\n    <tr>\n      <th>27</th>\n      <td>M5C</td>\n      <td>Downtown Toronto</td>\n      <td>St. James Town</td>\n    </tr>\n    <tr>\n      <th>28</th>\n      <td>M6C</td>\n      <td>York</td>\n      <td>Humewood-Cedarvale</td>\n    </tr>\n    <tr>\n      <th>29</th>\n      <td>M9C</td>\n      <td>Etobicoke</td>\n      <td>Bloordale Gardens</td>\n    </tr>\n    <tr>\n      <th>...</th>\n      <td>...</td>\n      <td>...</td>\n      <td>...</td>\n    </tr>\n    <tr>\n      <th>182</th>\n      <td>M1W</td>\n      <td>Scarborough</td>\n      <td>L'Amoreaux West</td>\n    </tr>\n    <tr>\n      <th>183</th>\n      <td>M1W</td>\n      <td>Scarborough</td>\n      <td>Steeles West</td>\n    </tr>\n    <tr>\n      <th>184</th>\n      <td>M4W</td>\n      <td>Downtown Toronto</td>\n      <td>Rosedale</td>\n    </tr>\n    <tr>\n      <th>185</th>\n      <td>M5W</td>\n      <td>Downtown Toronto</td>\n      <td>Stn A PO Boxes 25 The Esplanade</td>\n    </tr>\n    <tr>\n      <th>186</th>\n      <td>M8W</td>\n      <td>Etobicoke</td>\n      <td>Alderwood</td>\n    </tr>\n    <tr>\n      <th>187</th>\n      <td>M8W</td>\n      <td>Etobicoke</td>\n      <td>Long Branch</td>\n    </tr>\n    <tr>\n      <th>188</th>\n      <td>M9W</td>\n      <td>Etobicoke</td>\n      <td>Northwest</td>\n    </tr>\n    <tr>\n      <th>189</th>\n      <td>M1X</td>\n      <td>Scarborough</td>\n      <td>Upper Rouge</td>\n    </tr>\n    <tr>\n      <th>190</th>\n      <td>M4X</td>\n      <td>Downtown Toronto</td>\n      <td>Cabbagetown</td>\n    </tr>\n    <tr>\n      <th>191</th>\n      <td>M4X</td>\n      <td>Downtown Toronto</td>\n      <td>St. James Town</td>\n    </tr>\n    <tr>\n      <th>192</th>\n      <td>M5X</td>\n      <td>Downtown Toronto</td>\n      <td>First Canadian Place</td>\n    </tr>\n    <tr>\n      <th>193</th>\n      <td>M5X</td>\n      <td>Downtown Toronto</td>\n      <td>Underground city</td>\n    </tr>\n    <tr>\n      <th>194</th>\n      <td>M8X</td>\n      <td>Etobicoke</td>\n      <td>The Kingsway</td>\n    </tr>\n    <tr>\n      <th>195</th>\n      <td>M8X</td>\n      <td>Etobicoke</td>\n      <td>Montgomery Road</td>\n    </tr>\n    <tr>\n      <th>196</th>\n      <td>M8X</td>\n      <td>Etobicoke</td>\n      <td>Old Mill North</td>\n    </tr>\n    <tr>\n      <th>197</th>\n      <td>M4Y</td>\n      <td>Downtown Toronto</td>\n      <td>Church and Wellesley</td>\n    </tr>\n    <tr>\n      <th>198</th>\n      <td>M7Y</td>\n      <td>East Toronto</td>\n      <td>Business reply mail Processing Centre969 Eastern</td>\n    </tr>\n    <tr>\n      <th>199</th>\n      <td>M8Y</td>\n      <td>Etobicoke</td>\n      <td>Humber Bay</td>\n    </tr>\n    <tr>\n      <th>200</th>\n      <td>M8Y</td>\n      <td>Etobicoke</td>\n      <td>King's Mill Park</td>\n    </tr>\n    <tr>\n      <th>201</th>\n      <td>M8Y</td>\n      <td>Etobicoke</td>\n      <td>Kingsway Park South East</td>\n    </tr>\n    <tr>\n      <th>202</th>\n      <td>M8Y</td>\n      <td>Etobicoke</td>\n      <td>Mimico NE</td>\n    </tr>\n    <tr>\n      <th>203</th>\n      <td>M8Y</td>\n      <td>Etobicoke</td>\n      <td>Old Mill South</td>\n    </tr>\n    <tr>\n      <th>204</th>\n      <td>M8Y</td>\n      <td>Etobicoke</td>\n      <td>The Queensway East</td>\n    </tr>\n    <tr>\n      <th>205</th>\n      <td>M8Y</td>\n      <td>Etobicoke</td>\n      <td>Royal York South East</td>\n    </tr>\n    <tr>\n      <th>206</th>\n      <td>M8Y</td>\n      <td>Etobicoke</td>\n      <td>Sunnylea</td>\n    </tr>\n    <tr>\n      <th>207</th>\n      <td>M8Z</td>\n      <td>Etobicoke</td>\n      <td>Kingsway Park South West</td>\n    </tr>\n    <tr>\n      <th>208</th>\n      <td>M8Z</td>\n      <td>Etobicoke</td>\n      <td>Mimico NW</td>\n    </tr>\n    <tr>\n      <th>209</th>\n      <td>M8Z</td>\n      <td>Etobicoke</td>\n      <td>The Queensway West</td>\n    </tr>\n    <tr>\n      <th>210</th>\n      <td>M8Z</td>\n      <td>Etobicoke</td>\n      <td>Royal York South West</td>\n    </tr>\n    <tr>\n      <th>211</th>\n      <td>M8Z</td>\n      <td>Etobicoke</td>\n      <td>South of Bloor</td>\n    </tr>\n  </tbody>\n</table>\n<p>212 rows \u00d7 3 columns</p>\n</div>",
                        "text/plain": "    Postcode           Borough  \\\n0        M3A        North York   \n1        M4A        North York   \n2        M5A  Downtown Toronto   \n3        M5A  Downtown Toronto   \n4        M6A        North York   \n5        M6A        North York   \n6        M7A      Queen's Park   \n7        M9A         Etobicoke   \n8        M1B       Scarborough   \n9        M1B       Scarborough   \n10       M3B        North York   \n11       M4B         East York   \n12       M4B         East York   \n13       M5B  Downtown Toronto   \n14       M5B  Downtown Toronto   \n15       M6B        North York   \n16       M9B         Etobicoke   \n17       M9B         Etobicoke   \n18       M9B         Etobicoke   \n19       M9B         Etobicoke   \n20       M9B         Etobicoke   \n21       M1C       Scarborough   \n22       M1C       Scarborough   \n23       M1C       Scarborough   \n24       M3C        North York   \n25       M3C        North York   \n26       M4C         East York   \n27       M5C  Downtown Toronto   \n28       M6C              York   \n29       M9C         Etobicoke   \n..       ...               ...   \n182      M1W       Scarborough   \n183      M1W       Scarborough   \n184      M4W  Downtown Toronto   \n185      M5W  Downtown Toronto   \n186      M8W         Etobicoke   \n187      M8W         Etobicoke   \n188      M9W         Etobicoke   \n189      M1X       Scarborough   \n190      M4X  Downtown Toronto   \n191      M4X  Downtown Toronto   \n192      M5X  Downtown Toronto   \n193      M5X  Downtown Toronto   \n194      M8X         Etobicoke   \n195      M8X         Etobicoke   \n196      M8X         Etobicoke   \n197      M4Y  Downtown Toronto   \n198      M7Y      East Toronto   \n199      M8Y         Etobicoke   \n200      M8Y         Etobicoke   \n201      M8Y         Etobicoke   \n202      M8Y         Etobicoke   \n203      M8Y         Etobicoke   \n204      M8Y         Etobicoke   \n205      M8Y         Etobicoke   \n206      M8Y         Etobicoke   \n207      M8Z         Etobicoke   \n208      M8Z         Etobicoke   \n209      M8Z         Etobicoke   \n210      M8Z         Etobicoke   \n211      M8Z         Etobicoke   \n\n                                        Neighbourhood  \n0                                           Parkwoods  \n1                                    Victoria Village  \n2                                        Harbourfront  \n3                                         Regent Park  \n4                                    Lawrence Heights  \n5                                      Lawrence Manor  \n6                                        Not assigned  \n7                                    Islington Avenue  \n8                                               Rouge  \n9                                             Malvern  \n10                                    Don Mills North  \n11                                   Woodbine Gardens  \n12                                      Parkview Hill  \n13                                            Ryerson  \n14                                    Garden District  \n15                                          Glencairn  \n16                                         Cloverdale  \n17                                          Islington  \n18                                       Martin Grove  \n19                                   Princess Gardens  \n20                                    West Deane Park  \n21                                     Highland Creek  \n22                                         Rouge Hill  \n23                                         Port Union  \n24                                    Flemingdon Park  \n25                                    Don Mills South  \n26                                   Woodbine Heights  \n27                                     St. James Town  \n28                                 Humewood-Cedarvale  \n29                                  Bloordale Gardens  \n..                                                ...  \n182                                   L'Amoreaux West  \n183                                      Steeles West  \n184                                          Rosedale  \n185                   Stn A PO Boxes 25 The Esplanade  \n186                                         Alderwood  \n187                                       Long Branch  \n188                                         Northwest  \n189                                       Upper Rouge  \n190                                       Cabbagetown  \n191                                    St. James Town  \n192                              First Canadian Place  \n193                                  Underground city  \n194                                      The Kingsway  \n195                                   Montgomery Road  \n196                                    Old Mill North  \n197                              Church and Wellesley  \n198  Business reply mail Processing Centre969 Eastern  \n199                                        Humber Bay  \n200                                  King's Mill Park  \n201                          Kingsway Park South East  \n202                                         Mimico NE  \n203                                    Old Mill South  \n204                                The Queensway East  \n205                             Royal York South East  \n206                                          Sunnylea  \n207                          Kingsway Park South West  \n208                                         Mimico NW  \n209                                The Queensway West  \n210                             Royal York South West  \n211                                    South of Bloor  \n\n[212 rows x 3 columns]"
                    },
                    "execution_count": 127,
                    "metadata": {},
                    "output_type": "execute_result"
                }
            ],
            "source": "#Removing Not assigned zip codes and fixing df index\ndf.drop(df[df['Borough'] == 'Not assigned'].index, inplace=True)\ndf.index = range(len(df))\ndf"
        },
        {
            "cell_type": "code",
            "execution_count": 128,
            "metadata": {},
            "outputs": [
                {
                    "data": {
                        "text/plain": "(212, 3)"
                    },
                    "execution_count": 128,
                    "metadata": {},
                    "output_type": "execute_result"
                }
            ],
            "source": "df.shape"
        },
        {
            "cell_type": "markdown",
            "metadata": {},
            "source": "3) To create the above dataframe:\n\n- The dataframe will consist of three columns: PostalCode, Borough, and Neighborhood\n- Only process the cells that have complete information and not greyed out or not assigned.\n- For each cell, the postal code will go under the PostalCode column, the first line under the postal code will go under Borough, and the remaining lines will go under the Neighborhood column formatted nicely and separated with commas as shown in the sample dataframe above. For example, for cell (1, 3) on the Wikipedia page, M3A will go under PostalCode, North York will go under Borough, and Parkwoods will go under Neighborhood.\n- If a cell has only one line under the postal code, like cell (1, 7), then that line will go under the Borough and the Neighborhood columns. So for cell (1, 7), the value of the Borough and the Neighborhood column will be Queen's Park.\n- Clean your Notebook and add Markdown cells to explain your work and any assumptions you are making.\n- In the last cell of your notebook, use the .shape method to print the number of rows of your dataframe.\n\n4) Submit a link to your Notebook on your Github repository. (10 marks)\n\nNote: There are different website scraping libraries and packages in Python. One of the most common packages is BeautifulSoup. Here is the package's main documentation page: http://beautiful-soup-4.readthedocs.io/en/latest/\n\nThe package is so popular that there is a plethora of tutorials and examples of how to use it. Here is a very good Youtube video on how to use the BeautifulSoup package: https://www.youtube.com/watch?v=ng2o98k983k\n\nUse the BeautifulSoup package to transform the data in the table on the Wikipedia page into the above pandas dataframe"
        }
    ],
    "metadata": {
        "kernelspec": {
            "display_name": "Python 3.6",
            "language": "python",
            "name": "python3"
        },
        "language_info": {
            "codemirror_mode": {
                "name": "ipython",
                "version": 3
            },
            "file_extension": ".py",
            "mimetype": "text/x-python",
            "name": "python",
            "nbconvert_exporter": "python",
            "pygments_lexer": "ipython3",
            "version": "3.6.9"
        }
    },
    "nbformat": 4,
    "nbformat_minor": 2
}